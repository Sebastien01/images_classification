{
  "nbformat": 4,
  "nbformat_minor": 0,
  "metadata": {
    "colab": {
      "name": "Unet_1.ipynb",
      "provenance": [],
      "collapsed_sections": [
        "MmfKcNW3bcd5"
      ],
      "mount_file_id": "1lx85byQDbLAv8XTYikuLxNCxnBRNVNWd",
      "authorship_tag": "ABX9TyORkmvvhfF5o4X9EGEGYJie",
      "include_colab_link": true
    },
    "kernelspec": {
      "name": "python3",
      "display_name": "Python 3"
    },
    "language_info": {
      "name": "python"
    },
    "accelerator": "GPU"
  },
  "cells": [
    {
      "cell_type": "markdown",
      "metadata": {
        "id": "view-in-github",
        "colab_type": "text"
      },
      "source": [
        "<a href=\"https://colab.research.google.com/github/Sebastien01/imnet_classification/blob/master/model_from_scratch.ipynb\" target=\"_parent\"><img src=\"https://colab.research.google.com/assets/colab-badge.svg\" alt=\"Open In Colab\"/></a>"
      ]
    },
    {
      "cell_type": "markdown",
      "metadata": {
        "id": "fWa2Z8f1bkQG"
      },
      "source": [
        "# Imports"
      ]
    },
    {
      "cell_type": "code",
      "metadata": {
        "id": "gUNgxWlCqmA2"
      },
      "source": [
        "from tensorflow.keras.preprocessing.image import ImageDataGenerator\n",
        "from tensorflow import keras\n",
        "from tensorflow.keras import layers\n",
        "from tensorflow.keras.models import Sequential, Model, save_model, load_model\n",
        "from tensorflow.keras.callbacks import EarlyStopping"
      ],
      "execution_count": 1,
      "outputs": []
    },
    {
      "cell_type": "markdown",
      "metadata": {
        "id": "L1DIjl50bogc"
      },
      "source": [
        "# Get data (DataGenerator)"
      ]
    },
    {
      "cell_type": "code",
      "metadata": {
        "id": "tW7zFMCoq2uq"
      },
      "source": [
        "train_path = '/content/drive/MyDrive/image_scene/data/seg_train/seg_train'\n",
        "test_path = '/content/drive/MyDrive/image_scene/data/seg_test/seg_test'\n",
        "\n",
        "IMG_W,IMG_H = 160,160\n",
        "BATCH_SIZE = 32"
      ],
      "execution_count": 2,
      "outputs": []
    },
    {
      "cell_type": "code",
      "metadata": {
        "id": "rTxIoykqrlBl"
      },
      "source": [
        "train_gen = ImageDataGenerator(rescale=1./255,validation_split=0.3)\n",
        "test_gen = ImageDataGenerator(rescale=1./255)\n"
      ],
      "execution_count": 3,
      "outputs": []
    },
    {
      "cell_type": "code",
      "metadata": {
        "colab": {
          "base_uri": "https://localhost:8080/"
        },
        "id": "S_SnYEKgrshf",
        "outputId": "41e64748-558d-44ae-c538-319232823062"
      },
      "source": [
        "train_set = train_gen.flow_from_directory(train_path,\n",
        "                                          target_size=(IMG_W,IMG_H),\n",
        "                                          batch_size=BATCH_SIZE,\n",
        "                                          class_mode='categorical',\n",
        "                                          subset='training')\n",
        "\n",
        "valid_set = train_gen.flow_from_directory(train_path,\n",
        "                                          target_size=(IMG_W,IMG_H),\n",
        "                                          batch_size=BATCH_SIZE,\n",
        "                                          class_mode='categorical',\n",
        "                                          subset='validation')\n",
        "\n",
        "test_set = test_gen.flow_from_directory(test_path,\n",
        "                                        target_size=(IMG_W,IMG_H),\n",
        "                                        batch_size=BATCH_SIZE,\n",
        "                                        class_mode='categorical')"
      ],
      "execution_count": 4,
      "outputs": [
        {
          "output_type": "stream",
          "text": [
            "Found 9302 images belonging to 6 classes.\n",
            "Found 3983 images belonging to 6 classes.\n",
            "Found 3000 images belonging to 6 classes.\n"
          ],
          "name": "stdout"
        }
      ]
    },
    {
      "cell_type": "markdown",
      "metadata": {
        "id": "_xCiEX0vbvKE"
      },
      "source": [
        "# Define models"
      ]
    },
    {
      "cell_type": "code",
      "metadata": {
        "id": "W9Xj4FFItamm"
      },
      "source": [
        "#Model 1 : number detection\n",
        "def model_numbers():\n",
        "  model = Sequential()\n",
        "  model.add(layers.Conv2D(16, (3,3), padding='same', activation=\"relu\",input_shape=(160,160,3)))\n",
        "  model.add(layers.MaxPool2D(pool_size=(2,2)))\n",
        "  model.add(layers.Conv2D(32, (2,2), padding='same', activation=\"relu\"))\n",
        "  model.add(layers.MaxPool2D(pool_size=(2,2)))\n",
        "  model.add(layers.Flatten())\n",
        "  model.add(layers.Dense(50, activation='relu'))\n",
        "  model.add(layers.Dropout(0.3))\n",
        "  model.add(layers.Dense(6, activation='softmax'))\n",
        "\n",
        "  opt = keras.optimizers.Adam(learning_rate=0.001)\n",
        "  model.compile(optimizer=opt, loss='categorical_crossentropy', metrics=['accuracy'])\n",
        "  return model\n"
      ],
      "execution_count": 12,
      "outputs": []
    },
    {
      "cell_type": "code",
      "metadata": {
        "id": "3RwY8pmgqxsR"
      },
      "source": [
        "#Model 1 : number detection\n",
        "def model_unet():\n",
        "  model = Sequential()\n",
        "  model.add(layers.Conv2D(32, (3,3), padding='same', activation=\"relu\"))\n",
        "  model.add(layers.MaxPool2D(pool_size=(2,2)))\n",
        "  model.add(layers.Conv2D(64, (3,3), padding='same', activation=\"relu\"))\n",
        "  model.add(layers.MaxPool2D(pool_size=(2,2)))\n",
        "  model.add(layers.Conv2D(128, (3,3), padding='same', activation=\"relu\"))\n",
        "  model.add(layers.MaxPool2D(pool_size=(2,2)))\n",
        "  model.add(layers.Conv2D(256, (3,3), padding='same', activation=\"relu\"))\n",
        "  model.add(layers.MaxPool2D(pool_size=(2,2)))\n",
        "  model.add(layers.Conv2D(256, (2,2), padding='same', activation=\"relu\"))\n",
        "  model.add(layers.MaxPool2D(pool_size=(2,2)))\n",
        "  model.add(layers.Conv2D(128, (2,2), padding='same', activation=\"relu\"))\n",
        "  model.add(layers.MaxPool2D(pool_size=(2,2)))\n",
        "  model.add(layers.Conv2D(64, (2,2), padding='same', activation=\"relu\"))\n",
        "  model.add(layers.MaxPool2D(pool_size=(2,2)))\n",
        "  model.add(layers.Conv2D(32, (2,2), padding='same', activation=\"relu\"))\n",
        "  model.add(layers.MaxPool2D(pool_size=(2,2)))\n",
        "  model.add(layers.Flatten())\n",
        "  model.add(layers.Dense(50, activation='relu'))\n",
        "  model.add(layers.Dropout(0.3))\n",
        "  model.add(layers.Dense(6, activation='softmax'))\n",
        "\n",
        "  opt = keras.optimizers.Adam(learning_rate=0.001)\n",
        "  model.compile(optimizer=opt, loss='categorical_crossentropy', metrics=['accuracy'])\n",
        "  return model"
      ],
      "execution_count": 6,
      "outputs": []
    },
    {
      "cell_type": "code",
      "metadata": {
        "id": "Vi7pk6lDx-Ar"
      },
      "source": [
        "def model_unet_inception():\n",
        "  model = Sequential()\n",
        "  model.add(layers.Conv2D(32, (3,3), strides=2, padding=\"same\",activation='relu',input_shape=(160,160,3)))\n",
        "  for filters in [64, 128, 256]:\n",
        "    model.add(layers.SeparableConv2D(filters,(3,3),padding='same',activation='relu'))\n",
        "    model.add(layers.MaxPool2D(pool_size=(3,3), strides=2, padding=\"same\"))\n",
        "  for filters in [256, 128, 64, 32]:\n",
        "    model.add(layers.Conv2DTranspose(filters,(3,3),padding='same',activation='relu'))\n",
        "    model.add(layers.UpSampling2D((2,2)))\n",
        "  model.add(layers.GlobalAveragePooling2D())\n",
        "  model.add(layers.Dense(6,activation='softmax'))\n",
        "  model.compile(optimizer='adam',loss='categorical_crossentropy',metrics=['accuracy'])\n",
        "  return model"
      ],
      "execution_count": 5,
      "outputs": []
    },
    {
      "cell_type": "code",
      "metadata": {
        "id": "WWdydpTGx5Rh",
        "colab": {
          "base_uri": "https://localhost:8080/"
        },
        "outputId": "f82bcc68-e109-4856-bf36-c48352a7c5b2"
      },
      "source": [
        "model = model_unet_inception()\n",
        "model.summary()"
      ],
      "execution_count": 6,
      "outputs": [
        {
          "output_type": "stream",
          "text": [
            "Model: \"sequential\"\n",
            "_________________________________________________________________\n",
            "Layer (type)                 Output Shape              Param #   \n",
            "=================================================================\n",
            "conv2d (Conv2D)              (None, 80, 80, 32)        896       \n",
            "_________________________________________________________________\n",
            "separable_conv2d (SeparableC (None, 80, 80, 64)        2400      \n",
            "_________________________________________________________________\n",
            "max_pooling2d (MaxPooling2D) (None, 40, 40, 64)        0         \n",
            "_________________________________________________________________\n",
            "separable_conv2d_1 (Separabl (None, 40, 40, 128)       8896      \n",
            "_________________________________________________________________\n",
            "max_pooling2d_1 (MaxPooling2 (None, 20, 20, 128)       0         \n",
            "_________________________________________________________________\n",
            "separable_conv2d_2 (Separabl (None, 20, 20, 256)       34176     \n",
            "_________________________________________________________________\n",
            "max_pooling2d_2 (MaxPooling2 (None, 10, 10, 256)       0         \n",
            "_________________________________________________________________\n",
            "conv2d_transpose (Conv2DTran (None, 10, 10, 256)       590080    \n",
            "_________________________________________________________________\n",
            "up_sampling2d (UpSampling2D) (None, 20, 20, 256)       0         \n",
            "_________________________________________________________________\n",
            "conv2d_transpose_1 (Conv2DTr (None, 20, 20, 128)       295040    \n",
            "_________________________________________________________________\n",
            "up_sampling2d_1 (UpSampling2 (None, 40, 40, 128)       0         \n",
            "_________________________________________________________________\n",
            "conv2d_transpose_2 (Conv2DTr (None, 40, 40, 64)        73792     \n",
            "_________________________________________________________________\n",
            "up_sampling2d_2 (UpSampling2 (None, 80, 80, 64)        0         \n",
            "_________________________________________________________________\n",
            "conv2d_transpose_3 (Conv2DTr (None, 80, 80, 32)        18464     \n",
            "_________________________________________________________________\n",
            "up_sampling2d_3 (UpSampling2 (None, 160, 160, 32)      0         \n",
            "_________________________________________________________________\n",
            "global_average_pooling2d (Gl (None, 32)                0         \n",
            "_________________________________________________________________\n",
            "dense (Dense)                (None, 6)                 198       \n",
            "=================================================================\n",
            "Total params: 1,023,942\n",
            "Trainable params: 1,023,942\n",
            "Non-trainable params: 0\n",
            "_________________________________________________________________\n"
          ],
          "name": "stdout"
        }
      ]
    },
    {
      "cell_type": "code",
      "metadata": {
        "id": "Res_VhNKxu1W",
        "colab": {
          "base_uri": "https://localhost:8080/"
        },
        "outputId": "e471507c-e826-4e10-a3c7-41ce1bcc15d3"
      },
      "source": [
        "es = EarlyStopping(patience=5, restore_best_weights=True,monitor='accuracy')\n",
        "history = model.fit(train_set,batch_size=32,epochs=100,validation_data=valid_set,callbacks=[es])"
      ],
      "execution_count": 7,
      "outputs": [
        {
          "output_type": "stream",
          "text": [
            "Epoch 1/100\n",
            "291/291 [==============================] - 3343s 11s/step - loss: 1.5192 - accuracy: 0.3507 - val_loss: 1.2596 - val_accuracy: 0.4567\n",
            "Epoch 2/100\n",
            "291/291 [==============================] - 32s 110ms/step - loss: 1.1218 - accuracy: 0.5570 - val_loss: 0.9554 - val_accuracy: 0.6242\n",
            "Epoch 3/100\n",
            "291/291 [==============================] - 32s 109ms/step - loss: 0.9405 - accuracy: 0.6312 - val_loss: 0.8585 - val_accuracy: 0.6731\n",
            "Epoch 4/100\n",
            "291/291 [==============================] - 32s 111ms/step - loss: 0.8347 - accuracy: 0.6762 - val_loss: 0.7520 - val_accuracy: 0.7113\n",
            "Epoch 5/100\n",
            "291/291 [==============================] - 32s 109ms/step - loss: 0.7657 - accuracy: 0.7054 - val_loss: 0.7066 - val_accuracy: 0.7233\n",
            "Epoch 6/100\n",
            "291/291 [==============================] - 31s 106ms/step - loss: 0.7332 - accuracy: 0.7212 - val_loss: 0.7133 - val_accuracy: 0.7203\n",
            "Epoch 7/100\n",
            "291/291 [==============================] - 32s 110ms/step - loss: 0.6821 - accuracy: 0.7446 - val_loss: 0.6832 - val_accuracy: 0.7414\n",
            "Epoch 8/100\n",
            "291/291 [==============================] - 31s 106ms/step - loss: 0.6423 - accuracy: 0.7563 - val_loss: 0.6217 - val_accuracy: 0.7627\n",
            "Epoch 9/100\n",
            "291/291 [==============================] - 32s 111ms/step - loss: 0.6120 - accuracy: 0.7677 - val_loss: 0.6412 - val_accuracy: 0.7540\n",
            "Epoch 10/100\n",
            "291/291 [==============================] - 31s 106ms/step - loss: 0.5597 - accuracy: 0.7936 - val_loss: 0.5045 - val_accuracy: 0.8147\n",
            "Epoch 11/100\n",
            "291/291 [==============================] - 32s 110ms/step - loss: 0.5337 - accuracy: 0.8029 - val_loss: 0.5298 - val_accuracy: 0.7999\n",
            "Epoch 12/100\n",
            "291/291 [==============================] - 31s 106ms/step - loss: 0.4878 - accuracy: 0.8241 - val_loss: 0.4993 - val_accuracy: 0.8215\n",
            "Epoch 13/100\n",
            "291/291 [==============================] - 33s 112ms/step - loss: 0.4671 - accuracy: 0.8314 - val_loss: 0.4490 - val_accuracy: 0.8361\n",
            "Epoch 14/100\n",
            "291/291 [==============================] - 32s 110ms/step - loss: 0.4315 - accuracy: 0.8435 - val_loss: 0.4470 - val_accuracy: 0.8388\n",
            "Epoch 15/100\n",
            "291/291 [==============================] - 31s 105ms/step - loss: 0.4165 - accuracy: 0.8452 - val_loss: 0.4853 - val_accuracy: 0.8305\n",
            "Epoch 16/100\n",
            "291/291 [==============================] - 32s 110ms/step - loss: 0.3969 - accuracy: 0.8590 - val_loss: 0.4549 - val_accuracy: 0.8340\n",
            "Epoch 17/100\n",
            "291/291 [==============================] - 31s 105ms/step - loss: 0.3677 - accuracy: 0.8662 - val_loss: 0.4156 - val_accuracy: 0.8519\n",
            "Epoch 18/100\n",
            "291/291 [==============================] - 32s 111ms/step - loss: 0.3509 - accuracy: 0.8752 - val_loss: 0.4218 - val_accuracy: 0.8571\n",
            "Epoch 19/100\n",
            "291/291 [==============================] - 31s 106ms/step - loss: 0.3361 - accuracy: 0.8793 - val_loss: 0.5239 - val_accuracy: 0.8132\n",
            "Epoch 20/100\n",
            "291/291 [==============================] - 32s 110ms/step - loss: 0.3135 - accuracy: 0.8873 - val_loss: 0.4594 - val_accuracy: 0.8466\n",
            "Epoch 21/100\n",
            "291/291 [==============================] - 31s 106ms/step - loss: 0.2958 - accuracy: 0.8950 - val_loss: 0.5077 - val_accuracy: 0.8225\n",
            "Epoch 22/100\n",
            "291/291 [==============================] - 33s 112ms/step - loss: 0.2870 - accuracy: 0.8958 - val_loss: 0.4208 - val_accuracy: 0.8471\n",
            "Epoch 23/100\n",
            "291/291 [==============================] - 31s 107ms/step - loss: 0.2548 - accuracy: 0.9066 - val_loss: 0.4428 - val_accuracy: 0.8546\n",
            "Epoch 24/100\n",
            "291/291 [==============================] - 32s 111ms/step - loss: 0.2423 - accuracy: 0.9134 - val_loss: 0.4331 - val_accuracy: 0.8612\n",
            "Epoch 25/100\n",
            "291/291 [==============================] - 33s 112ms/step - loss: 0.2199 - accuracy: 0.9200 - val_loss: 0.4158 - val_accuracy: 0.8586\n",
            "Epoch 26/100\n",
            "291/291 [==============================] - 31s 107ms/step - loss: 0.2292 - accuracy: 0.9190 - val_loss: 0.4369 - val_accuracy: 0.8604\n",
            "Epoch 27/100\n",
            "291/291 [==============================] - 33s 112ms/step - loss: 0.2050 - accuracy: 0.9293 - val_loss: 0.4337 - val_accuracy: 0.8627\n",
            "Epoch 28/100\n",
            "291/291 [==============================] - 32s 111ms/step - loss: 0.1768 - accuracy: 0.9376 - val_loss: 0.5564 - val_accuracy: 0.8408\n",
            "Epoch 29/100\n",
            "291/291 [==============================] - 32s 111ms/step - loss: 0.1633 - accuracy: 0.9408 - val_loss: 0.4783 - val_accuracy: 0.8609\n",
            "Epoch 30/100\n",
            "291/291 [==============================] - 31s 108ms/step - loss: 0.1447 - accuracy: 0.9493 - val_loss: 0.5057 - val_accuracy: 0.8526\n",
            "Epoch 31/100\n",
            "291/291 [==============================] - 32s 109ms/step - loss: 0.1675 - accuracy: 0.9399 - val_loss: 0.5535 - val_accuracy: 0.8474\n",
            "Epoch 32/100\n",
            "291/291 [==============================] - 32s 109ms/step - loss: 0.1336 - accuracy: 0.9525 - val_loss: 0.6661 - val_accuracy: 0.8335\n",
            "Epoch 33/100\n",
            "291/291 [==============================] - 32s 109ms/step - loss: 0.1250 - accuracy: 0.9569 - val_loss: 0.6725 - val_accuracy: 0.8421\n",
            "Epoch 34/100\n",
            "291/291 [==============================] - 33s 113ms/step - loss: 0.1183 - accuracy: 0.9570 - val_loss: 0.6328 - val_accuracy: 0.8438\n",
            "Epoch 35/100\n",
            "291/291 [==============================] - 33s 112ms/step - loss: 0.1111 - accuracy: 0.9614 - val_loss: 0.7323 - val_accuracy: 0.8250\n",
            "Epoch 36/100\n",
            "291/291 [==============================] - 32s 109ms/step - loss: 0.0913 - accuracy: 0.9669 - val_loss: 0.6668 - val_accuracy: 0.8463\n",
            "Epoch 37/100\n",
            "291/291 [==============================] - 32s 109ms/step - loss: 0.0995 - accuracy: 0.9650 - val_loss: 0.6359 - val_accuracy: 0.8371\n",
            "Epoch 38/100\n",
            "291/291 [==============================] - 32s 110ms/step - loss: 0.0923 - accuracy: 0.9670 - val_loss: 0.6884 - val_accuracy: 0.8463\n",
            "Epoch 39/100\n",
            "291/291 [==============================] - 32s 110ms/step - loss: 0.0744 - accuracy: 0.9728 - val_loss: 0.7582 - val_accuracy: 0.8519\n",
            "Epoch 40/100\n",
            "291/291 [==============================] - 31s 107ms/step - loss: 0.0881 - accuracy: 0.9684 - val_loss: 0.7876 - val_accuracy: 0.8446\n",
            "Epoch 41/100\n",
            "291/291 [==============================] - 32s 110ms/step - loss: 0.0839 - accuracy: 0.9732 - val_loss: 0.7743 - val_accuracy: 0.8474\n",
            "Epoch 42/100\n",
            "291/291 [==============================] - 34s 115ms/step - loss: 0.0738 - accuracy: 0.9761 - val_loss: 0.7056 - val_accuracy: 0.8501\n",
            "Epoch 43/100\n",
            "291/291 [==============================] - 32s 110ms/step - loss: 0.0472 - accuracy: 0.9840 - val_loss: 0.8379 - val_accuracy: 0.8531\n",
            "Epoch 44/100\n",
            "291/291 [==============================] - 31s 107ms/step - loss: 0.0956 - accuracy: 0.9666 - val_loss: 0.7710 - val_accuracy: 0.8519\n",
            "Epoch 45/100\n",
            "291/291 [==============================] - 32s 111ms/step - loss: 0.0601 - accuracy: 0.9787 - val_loss: 0.7998 - val_accuracy: 0.8609\n",
            "Epoch 46/100\n",
            "291/291 [==============================] - 33s 112ms/step - loss: 0.0742 - accuracy: 0.9769 - val_loss: 0.8220 - val_accuracy: 0.8421\n",
            "Epoch 47/100\n",
            "291/291 [==============================] - 31s 107ms/step - loss: 0.0574 - accuracy: 0.9800 - val_loss: 0.7861 - val_accuracy: 0.8566\n",
            "Epoch 48/100\n",
            "291/291 [==============================] - 33s 112ms/step - loss: 0.0577 - accuracy: 0.9836 - val_loss: 0.8039 - val_accuracy: 0.8481\n"
          ],
          "name": "stdout"
        }
      ]
    },
    {
      "cell_type": "code",
      "metadata": {
        "colab": {
          "base_uri": "https://localhost:8080/"
        },
        "id": "9zeCTw96bxLx",
        "outputId": "96f4cb85-a86a-42bc-bcae-6d3a810df2b9"
      },
      "source": [
        "model2 = model_numbers()\n",
        "model2.summary()"
      ],
      "execution_count": 13,
      "outputs": [
        {
          "output_type": "stream",
          "text": [
            "Model: \"sequential_2\"\n",
            "_________________________________________________________________\n",
            "Layer (type)                 Output Shape              Param #   \n",
            "=================================================================\n",
            "conv2d_3 (Conv2D)            (None, 160, 160, 16)      448       \n",
            "_________________________________________________________________\n",
            "max_pooling2d_5 (MaxPooling2 (None, 80, 80, 16)        0         \n",
            "_________________________________________________________________\n",
            "conv2d_4 (Conv2D)            (None, 80, 80, 32)        2080      \n",
            "_________________________________________________________________\n",
            "max_pooling2d_6 (MaxPooling2 (None, 40, 40, 32)        0         \n",
            "_________________________________________________________________\n",
            "flatten_1 (Flatten)          (None, 51200)             0         \n",
            "_________________________________________________________________\n",
            "dense_3 (Dense)              (None, 50)                2560050   \n",
            "_________________________________________________________________\n",
            "dropout_1 (Dropout)          (None, 50)                0         \n",
            "_________________________________________________________________\n",
            "dense_4 (Dense)              (None, 6)                 306       \n",
            "=================================================================\n",
            "Total params: 2,562,884\n",
            "Trainable params: 2,562,884\n",
            "Non-trainable params: 0\n",
            "_________________________________________________________________\n"
          ],
          "name": "stdout"
        }
      ]
    },
    {
      "cell_type": "code",
      "metadata": {
        "colab": {
          "base_uri": "https://localhost:8080/"
        },
        "id": "0ocefiLRb3KH",
        "outputId": "5b8a5b6a-cd6e-4d3f-e047-c760d2f60137"
      },
      "source": [
        "es = EarlyStopping(patience=5, restore_best_weights=True,monitor='accuracy')\n",
        "history = model2.fit(train_set,batch_size=32,epochs=100,validation_data=valid_set,callbacks=[es])"
      ],
      "execution_count": 15,
      "outputs": [
        {
          "output_type": "stream",
          "text": [
            "Epoch 1/100\n",
            "291/291 [==============================] - 32s 107ms/step - loss: 1.1678 - accuracy: 0.5524 - val_loss: 0.8649 - val_accuracy: 0.6834\n",
            "Epoch 2/100\n",
            "291/291 [==============================] - 29s 101ms/step - loss: 0.8636 - accuracy: 0.6744 - val_loss: 0.6941 - val_accuracy: 0.7514\n",
            "Epoch 3/100\n",
            "291/291 [==============================] - 32s 109ms/step - loss: 0.7075 - accuracy: 0.7425 - val_loss: 0.6626 - val_accuracy: 0.7632\n",
            "Epoch 4/100\n",
            "291/291 [==============================] - 31s 107ms/step - loss: 0.5939 - accuracy: 0.7866 - val_loss: 0.6369 - val_accuracy: 0.7688\n",
            "Epoch 5/100\n",
            "291/291 [==============================] - 29s 101ms/step - loss: 0.4877 - accuracy: 0.8234 - val_loss: 0.6242 - val_accuracy: 0.7778\n",
            "Epoch 6/100\n",
            "291/291 [==============================] - 31s 105ms/step - loss: 0.4145 - accuracy: 0.8507 - val_loss: 0.6312 - val_accuracy: 0.7821\n",
            "Epoch 7/100\n",
            "291/291 [==============================] - 29s 100ms/step - loss: 0.3466 - accuracy: 0.8733 - val_loss: 0.6820 - val_accuracy: 0.7758\n",
            "Epoch 8/100\n",
            "291/291 [==============================] - 30s 103ms/step - loss: 0.2919 - accuracy: 0.8912 - val_loss: 0.7273 - val_accuracy: 0.7776\n",
            "Epoch 9/100\n",
            "291/291 [==============================] - 30s 101ms/step - loss: 0.2644 - accuracy: 0.9024 - val_loss: 0.7127 - val_accuracy: 0.7876\n",
            "Epoch 10/100\n",
            "291/291 [==============================] - 30s 103ms/step - loss: 0.2317 - accuracy: 0.9130 - val_loss: 0.8147 - val_accuracy: 0.7755\n",
            "Epoch 11/100\n",
            "291/291 [==============================] - 30s 104ms/step - loss: 0.2082 - accuracy: 0.9199 - val_loss: 0.8508 - val_accuracy: 0.7738\n",
            "Epoch 12/100\n",
            "291/291 [==============================] - 29s 99ms/step - loss: 0.2030 - accuracy: 0.9253 - val_loss: 0.9105 - val_accuracy: 0.7718\n",
            "Epoch 13/100\n",
            "291/291 [==============================] - 31s 105ms/step - loss: 0.1647 - accuracy: 0.9369 - val_loss: 0.9377 - val_accuracy: 0.7831\n",
            "Epoch 14/100\n",
            "291/291 [==============================] - 31s 106ms/step - loss: 0.1610 - accuracy: 0.9384 - val_loss: 0.9628 - val_accuracy: 0.7600\n",
            "Epoch 15/100\n",
            "291/291 [==============================] - 29s 99ms/step - loss: 0.1501 - accuracy: 0.9441 - val_loss: 1.0237 - val_accuracy: 0.7622\n",
            "Epoch 16/100\n",
            "291/291 [==============================] - 31s 106ms/step - loss: 0.1380 - accuracy: 0.9475 - val_loss: 0.9972 - val_accuracy: 0.7550\n",
            "Epoch 17/100\n",
            "291/291 [==============================] - 29s 100ms/step - loss: 0.1426 - accuracy: 0.9457 - val_loss: 1.0672 - val_accuracy: 0.7776\n",
            "Epoch 18/100\n",
            "291/291 [==============================] - 30s 104ms/step - loss: 0.1276 - accuracy: 0.9509 - val_loss: 1.2098 - val_accuracy: 0.7665\n",
            "Epoch 19/100\n",
            "291/291 [==============================] - 30s 101ms/step - loss: 0.1193 - accuracy: 0.9557 - val_loss: 1.1374 - val_accuracy: 0.7595\n",
            "Epoch 20/100\n",
            "291/291 [==============================] - 30s 103ms/step - loss: 0.1386 - accuracy: 0.9507 - val_loss: 1.2601 - val_accuracy: 0.7597\n",
            "Epoch 21/100\n",
            "291/291 [==============================] - 30s 103ms/step - loss: 0.1147 - accuracy: 0.9537 - val_loss: 1.1541 - val_accuracy: 0.7527\n",
            "Epoch 22/100\n",
            "291/291 [==============================] - 29s 101ms/step - loss: 0.1212 - accuracy: 0.9555 - val_loss: 1.3748 - val_accuracy: 0.7168\n",
            "Epoch 23/100\n",
            "291/291 [==============================] - 31s 105ms/step - loss: 0.1136 - accuracy: 0.9573 - val_loss: 1.2759 - val_accuracy: 0.7708\n",
            "Epoch 24/100\n",
            "291/291 [==============================] - 29s 98ms/step - loss: 0.1029 - accuracy: 0.9604 - val_loss: 1.3343 - val_accuracy: 0.7758\n",
            "Epoch 25/100\n",
            "291/291 [==============================] - 31s 105ms/step - loss: 0.1033 - accuracy: 0.9604 - val_loss: 1.1961 - val_accuracy: 0.7600\n",
            "Epoch 26/100\n",
            "291/291 [==============================] - 31s 107ms/step - loss: 0.0972 - accuracy: 0.9623 - val_loss: 1.6582 - val_accuracy: 0.7562\n",
            "Epoch 27/100\n",
            "291/291 [==============================] - 29s 100ms/step - loss: 0.0984 - accuracy: 0.9609 - val_loss: 1.3220 - val_accuracy: 0.7632\n",
            "Epoch 28/100\n",
            "291/291 [==============================] - 31s 107ms/step - loss: 0.1037 - accuracy: 0.9596 - val_loss: 1.2352 - val_accuracy: 0.7565\n",
            "Epoch 29/100\n",
            "291/291 [==============================] - 30s 105ms/step - loss: 0.0941 - accuracy: 0.9640 - val_loss: 1.4309 - val_accuracy: 0.7655\n",
            "Epoch 30/100\n",
            "291/291 [==============================] - 31s 107ms/step - loss: 0.0844 - accuracy: 0.9667 - val_loss: 1.4802 - val_accuracy: 0.7595\n",
            "Epoch 31/100\n",
            "291/291 [==============================] - 31s 106ms/step - loss: 0.0785 - accuracy: 0.9701 - val_loss: 1.6737 - val_accuracy: 0.7612\n",
            "Epoch 32/100\n",
            "291/291 [==============================] - 31s 106ms/step - loss: 0.0885 - accuracy: 0.9672 - val_loss: 1.6147 - val_accuracy: 0.7587\n",
            "Epoch 33/100\n",
            "291/291 [==============================] - 31s 106ms/step - loss: 0.0902 - accuracy: 0.9658 - val_loss: 1.6686 - val_accuracy: 0.7607\n",
            "Epoch 34/100\n",
            "291/291 [==============================] - 30s 105ms/step - loss: 0.0951 - accuracy: 0.9640 - val_loss: 1.5744 - val_accuracy: 0.7642\n",
            "Epoch 35/100\n",
            "291/291 [==============================] - 31s 106ms/step - loss: 0.0872 - accuracy: 0.9650 - val_loss: 1.4536 - val_accuracy: 0.7690\n",
            "Epoch 36/100\n",
            "291/291 [==============================] - 30s 104ms/step - loss: 0.0876 - accuracy: 0.9660 - val_loss: 1.4453 - val_accuracy: 0.7592\n"
          ],
          "name": "stdout"
        }
      ]
    },
    {
      "cell_type": "code",
      "metadata": {
        "colab": {
          "base_uri": "https://localhost:8080/"
        },
        "id": "KhlbILNkt0xU",
        "outputId": "e8248b82-2222-4a48-fcfa-777ac8c0dc33"
      },
      "source": [
        "model.evaluate(test_set)"
      ],
      "execution_count": 8,
      "outputs": [
        {
          "output_type": "stream",
          "text": [
            "94/94 [==============================] - 969s 10s/step - loss: 0.9140 - accuracy: 0.8370\n"
          ],
          "name": "stdout"
        },
        {
          "output_type": "execute_result",
          "data": {
            "text/plain": [
              "[0.9140424728393555, 0.8370000123977661]"
            ]
          },
          "metadata": {
            "tags": []
          },
          "execution_count": 8
        }
      ]
    },
    {
      "cell_type": "code",
      "metadata": {
        "colab": {
          "base_uri": "https://localhost:8080/"
        },
        "id": "R4zG2Sxbd8S0",
        "outputId": "2dce7c52-1b36-4e85-8067-bad09a7496d2"
      },
      "source": [
        "model2.evaluate(test_set)"
      ],
      "execution_count": 16,
      "outputs": [
        {
          "output_type": "stream",
          "text": [
            "94/94 [==============================] - 7s 70ms/step - loss: 1.6382 - accuracy: 0.7503\n"
          ],
          "name": "stdout"
        },
        {
          "output_type": "execute_result",
          "data": {
            "text/plain": [
              "[1.6382337808609009, 0.750333309173584]"
            ]
          },
          "metadata": {
            "tags": []
          },
          "execution_count": 16
        }
      ]
    },
    {
      "cell_type": "code",
      "metadata": {
        "colab": {
          "base_uri": "https://localhost:8080/"
        },
        "id": "qDN7tU1Jlpba",
        "outputId": "6f3c035b-8115-4e04-c4c1-76a0c0259dbe"
      },
      "source": [
        "save_model(model,'/content/drive/MyDrive/image_scene/model_unet')"
      ],
      "execution_count": 10,
      "outputs": [
        {
          "output_type": "stream",
          "text": [
            "INFO:tensorflow:Assets written to: /content/drive/MyDrive/image_scene/model_unet/assets\n"
          ],
          "name": "stdout"
        }
      ]
    },
    {
      "cell_type": "markdown",
      "metadata": {
        "id": "Y4dGjKGZjWzL"
      },
      "source": [
        "**Première conclusion : \n",
        "Le premier modèle très basique (utilisé pour reconnaissance chiffres noir & blanc) VS Unet**\n",
        "\n",
        "**Unet** : 83% accuracy pour 1M de paramètres à entrainer\n",
        "\n",
        "**Model Basique** : 75% pour 2M de paramètres\n",
        "\n",
        "L'approche du Unet semble plus performante, à savoir : détérminer et localiser des patternes sur l'image pour ensuite classifier l'image en fonction de la localisation de ces paternes \n",
        "\n",
        "L'approche du model basique ressemble davantage à un VGG16 simple : on réduit la résolution de l'image mais on augmente le nombre de couches.\n",
        "\n",
        "On pourrait surement améliorer le modèle Unet avec du transfer Learning, ou avec du fine Tuning, notamment avec une régularisation L1 ou L2."
      ]
    }
  ]
}